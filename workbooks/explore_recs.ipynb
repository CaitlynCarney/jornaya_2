{
 "cells": [
  {
   "cell_type": "markdown",
   "metadata": {},
   "source": [
    "### CIC is looking for you to make suggestions about potential “rules” that they could implement with Jornaya data to positively impact their lead-buying strategy. For example, these are some good questions and points to start with:\n",
    "- Based on the data available, is there a certain type of lead that CIC should not bother purchasing?\n",
    "- Are there consumers that CIC should prioritize purchase and trying to contact? \n",
    "- What are the characteristics of the leads that CIC should not and should prioritize purchasing, and how can they implement rules using Jornaya data to distinguish these leads?\n",
    "- How much of a difference does having Jornaya data available make vs. not having it available?\n",
    "- Remember we are aiming to prove Jornaya’s data can have a meaningful and valuable impact to CIC, so showing numbers for how these rules can affect CIC will increase the strength of your story."
   ]
  },
  {
   "cell_type": "code",
   "execution_count": 1,
   "metadata": {},
   "outputs": [],
   "source": [
    "import pandas as pd\n",
    "import numpy as np\n",
    "\n",
    "import matplotlib.pyplot as plt\n",
    "import seaborn as sns\n",
    "\n",
    "import scipy.stats as stats\n",
    "\n",
    "import wrangle"
   ]
  },
  {
   "cell_type": "code",
   "execution_count": 2,
   "metadata": {},
   "outputs": [],
   "source": [
    "df = pd.read_csv('clean_CIC.csv').set_index('token')"
   ]
  },
  {
   "cell_type": "code",
   "execution_count": 3,
   "metadata": {},
   "outputs": [
    {
     "data": {
      "text/html": [
       "<div>\n",
       "<style scoped>\n",
       "    .dataframe tbody tr th:only-of-type {\n",
       "        vertical-align: middle;\n",
       "    }\n",
       "\n",
       "    .dataframe tbody tr th {\n",
       "        vertical-align: top;\n",
       "    }\n",
       "\n",
       "    .dataframe thead th {\n",
       "        text-align: right;\n",
       "    }\n",
       "</style>\n",
       "<table border=\"1\" class=\"dataframe\">\n",
       "  <thead>\n",
       "    <tr style=\"text-align: right;\">\n",
       "      <th></th>\n",
       "      <th>provider</th>\n",
       "      <th>lead_cost</th>\n",
       "      <th>contact</th>\n",
       "      <th>purchase</th>\n",
       "      <th>lead_age</th>\n",
       "      <th>lead_duration</th>\n",
       "      <th>field_count</th>\n",
       "      <th>competitors</th>\n",
       "      <th>provider_a</th>\n",
       "      <th>provider_b</th>\n",
       "      <th>provider_c</th>\n",
       "      <th>provider_d</th>\n",
       "    </tr>\n",
       "    <tr>\n",
       "      <th>token</th>\n",
       "      <th></th>\n",
       "      <th></th>\n",
       "      <th></th>\n",
       "      <th></th>\n",
       "      <th></th>\n",
       "      <th></th>\n",
       "      <th></th>\n",
       "      <th></th>\n",
       "      <th></th>\n",
       "      <th></th>\n",
       "      <th></th>\n",
       "      <th></th>\n",
       "    </tr>\n",
       "  </thead>\n",
       "  <tbody>\n",
       "    <tr>\n",
       "      <th>1</th>\n",
       "      <td>C</td>\n",
       "      <td>50</td>\n",
       "      <td>0</td>\n",
       "      <td>0</td>\n",
       "      <td>74</td>\n",
       "      <td>962</td>\n",
       "      <td>10</td>\n",
       "      <td>2</td>\n",
       "      <td>0</td>\n",
       "      <td>0</td>\n",
       "      <td>1</td>\n",
       "      <td>0</td>\n",
       "    </tr>\n",
       "    <tr>\n",
       "      <th>2</th>\n",
       "      <td>C</td>\n",
       "      <td>50</td>\n",
       "      <td>0</td>\n",
       "      <td>0</td>\n",
       "      <td>47</td>\n",
       "      <td>617</td>\n",
       "      <td>9</td>\n",
       "      <td>3</td>\n",
       "      <td>0</td>\n",
       "      <td>0</td>\n",
       "      <td>1</td>\n",
       "      <td>0</td>\n",
       "    </tr>\n",
       "    <tr>\n",
       "      <th>3</th>\n",
       "      <td>A</td>\n",
       "      <td>75</td>\n",
       "      <td>0</td>\n",
       "      <td>0</td>\n",
       "      <td>7</td>\n",
       "      <td>94</td>\n",
       "      <td>14</td>\n",
       "      <td>1</td>\n",
       "      <td>1</td>\n",
       "      <td>0</td>\n",
       "      <td>0</td>\n",
       "      <td>0</td>\n",
       "    </tr>\n",
       "    <tr>\n",
       "      <th>4</th>\n",
       "      <td>C</td>\n",
       "      <td>75</td>\n",
       "      <td>0</td>\n",
       "      <td>0</td>\n",
       "      <td>29</td>\n",
       "      <td>104</td>\n",
       "      <td>15</td>\n",
       "      <td>1</td>\n",
       "      <td>0</td>\n",
       "      <td>0</td>\n",
       "      <td>1</td>\n",
       "      <td>0</td>\n",
       "    </tr>\n",
       "    <tr>\n",
       "      <th>5</th>\n",
       "      <td>D</td>\n",
       "      <td>75</td>\n",
       "      <td>0</td>\n",
       "      <td>0</td>\n",
       "      <td>27</td>\n",
       "      <td>82</td>\n",
       "      <td>9</td>\n",
       "      <td>1</td>\n",
       "      <td>0</td>\n",
       "      <td>0</td>\n",
       "      <td>0</td>\n",
       "      <td>1</td>\n",
       "    </tr>\n",
       "  </tbody>\n",
       "</table>\n",
       "</div>"
      ],
      "text/plain": [
       "      provider  lead_cost  contact  purchase  lead_age  lead_duration  \\\n",
       "token                                                                   \n",
       "1            C         50        0         0        74            962   \n",
       "2            C         50        0         0        47            617   \n",
       "3            A         75        0         0         7             94   \n",
       "4            C         75        0         0        29            104   \n",
       "5            D         75        0         0        27             82   \n",
       "\n",
       "       field_count  competitors  provider_a  provider_b  provider_c  \\\n",
       "token                                                                 \n",
       "1               10            2           0           0           1   \n",
       "2                9            3           0           0           1   \n",
       "3               14            1           1           0           0   \n",
       "4               15            1           0           0           1   \n",
       "5                9            1           0           0           0   \n",
       "\n",
       "       provider_d  \n",
       "token              \n",
       "1               0  \n",
       "2               0  \n",
       "3               0  \n",
       "4               0  \n",
       "5               1  "
      ]
     },
     "execution_count": 3,
     "metadata": {},
     "output_type": "execute_result"
    }
   ],
   "source": [
    "df.head()"
   ]
  },
  {
   "cell_type": "markdown",
   "metadata": {},
   "source": [
    "___"
   ]
  },
  {
   "cell_type": "markdown",
   "metadata": {},
   "source": [
    "## Make more dummies to explore with"
   ]
  },
  {
   "cell_type": "markdown",
   "metadata": {},
   "source": [
    "### Lead cost"
   ]
  },
  {
   "cell_type": "code",
   "execution_count": 4,
   "metadata": {},
   "outputs": [],
   "source": [
    "# dummy lead cost feature\n",
    "dummy_df =  pd.get_dummies(df['lead_cost'])\n",
    "# name the new columns (goes in order of value counts high to low)\n",
    "dummy_df.columns = ['lead_costs_25', 'lead_costs_50', \n",
    "                    'lead_costs_75', 'lead_costs_100']\n",
    "# concat the dummies to the main data frame\n",
    "df = pd.concat([df, dummy_df], axis=1)"
   ]
  },
  {
   "cell_type": "markdown",
   "metadata": {},
   "source": [
    "### Competitors"
   ]
  },
  {
   "cell_type": "code",
   "execution_count": 5,
   "metadata": {},
   "outputs": [],
   "source": [
    "# dummy competitors feature\n",
    "dummy_df =  pd.get_dummies(df['competitors'])\n",
    "# name the new columns (goes in order of value counts high to low)\n",
    "dummy_df.columns = ['competitors_0', 'competitors_1', \n",
    "                    'competitors_2', 'competitors_3']\n",
    "# concat the dummies to the main data frame\n",
    "df = pd.concat([df, dummy_df], axis=1)"
   ]
  },
  {
   "cell_type": "markdown",
   "metadata": {},
   "source": [
    "___"
   ]
  },
  {
   "cell_type": "markdown",
   "metadata": {},
   "source": [
    "## Split the data"
   ]
  },
  {
   "cell_type": "code",
   "execution_count": 6,
   "metadata": {},
   "outputs": [],
   "source": [
    "train, validate, test = wrangle.split_CIC(df)\n",
    "X_train, X_validate, X_test, y_train, y_validate, y_test = wrangle.split_train_validate_test(train, validate, test) \n",
    "train_scaled, validate_scaled, test_scaled = wrangle.scale_my_data(train, validate, test)"
   ]
  },
  {
   "cell_type": "markdown",
   "metadata": {},
   "source": [
    "___"
   ]
  },
  {
   "cell_type": "markdown",
   "metadata": {},
   "source": [
    "- Dont contact leads that took longer than 30 seconds to send to CIC\n",
    "- Dont purchase leads that took longer than 1k seconds to complete the form.\n",
    "- Do not purchase any leads at the 50 price point from provider B or C\n",
    "- Do not purchase any leads at the 75 price point from provider B.\n",
    "- Do not purchase any leads at the 100 price point from provider B."
   ]
  },
  {
   "cell_type": "code",
   "execution_count": 7,
   "metadata": {},
   "outputs": [
    {
     "data": {
      "image/png": "[encoded data removed]",
      "text/plain": [
       "<Figure size 432x288 with 1 Axes>"
      ]
     },
     "metadata": {},
     "output_type": "display_data"
    }
   ],
   "source": [
    "explode = (0.3, 0)  \n",
    "colors = ['lightslategrey','goldenrod']\n",
    "\n",
    "plt.pie(df['purchase'].value_counts(), \n",
    "        startangle=90, autopct='%.2f',\n",
    "        labels=['No Purchase Made', 'Purchase Made'], shadow=True,\n",
    "        explode=explode, colors=colors)\n",
    "plt.show()"
   ]
  },
  {
   "cell_type": "code",
   "execution_count": 8,
   "metadata": {},
   "outputs": [],
   "source": [
    "df = df[df.lead_age < 30]"
   ]
  },
  {
   "cell_type": "code",
   "execution_count": 9,
   "metadata": {},
   "outputs": [
    {
     "data": {
      "image/png": "[encoded data removed]",
      "text/plain": [
       "<Figure size 432x288 with 1 Axes>"
      ]
     },
     "metadata": {},
     "output_type": "display_data"
    }
   ],
   "source": [
    "explode = (0.3, 0)  \n",
    "colors = ['lightslategrey','goldenrod']\n",
    "\n",
    "plt.pie(df['purchase'].value_counts(), \n",
    "        startangle=90, autopct='%.2f',\n",
    "        labels=['No Purchase Made', 'Purchase Made'], shadow=True,\n",
    "        explode=explode, colors=colors)\n",
    "plt.show()"
   ]
  },
  {
   "cell_type": "code",
   "execution_count": 10,
   "metadata": {},
   "outputs": [],
   "source": [
    "df = df[df.lead_duration < 1000]"
   ]
  },
  {
   "cell_type": "code",
   "execution_count": 11,
   "metadata": {},
   "outputs": [
    {
     "data": {
      "text/plain": [
       "25"
      ]
     },
     "execution_count": 11,
     "metadata": {},
     "output_type": "execute_result"
    }
   ],
   "source": [
    "(df.purchase == 1).sum()"
   ]
  },
  {
   "cell_type": "code",
   "execution_count": 12,
   "metadata": {},
   "outputs": [
    {
     "data": {
      "image/png": "[encoded data removed]",
      "text/plain": [
       "<Figure size 432x288 with 1 Axes>"
      ]
     },
     "metadata": {},
     "output_type": "display_data"
    }
   ],
   "source": [
    "explode = (0.3, 0)  \n",
    "colors = ['lightslategrey','goldenrod']\n",
    "\n",
    "plt.pie(df['purchase'].value_counts(), \n",
    "        startangle=90, autopct='%.2f',\n",
    "        labels=['No Purchase Made', 'Purchase Made'], shadow=True,\n",
    "        explode=explode, colors=colors)\n",
    "plt.show()"
   ]
  },
  {
   "cell_type": "code",
   "execution_count": 13,
   "metadata": {},
   "outputs": [],
   "source": [
    "df = df.drop(df[(df.provider == 'B') & (df.lead_cost == 50)].index)"
   ]
  },
  {
   "cell_type": "code",
   "execution_count": 14,
   "metadata": {},
   "outputs": [
    {
     "data": {
      "image/png": "[encoded data removed]",
      "text/plain": [
       "<Figure size 432x288 with 1 Axes>"
      ]
     },
     "metadata": {},
     "output_type": "display_data"
    }
   ],
   "source": [
    "explode = (0.3, 0)  \n",
    "colors = ['lightslategrey','goldenrod']\n",
    "\n",
    "plt.pie(df['purchase'].value_counts(), \n",
    "        startangle=90, autopct='%.2f',\n",
    "        labels=['No Purchase Made', 'Purchase Made'], shadow=True,\n",
    "        explode=explode, colors=colors)\n",
    "plt.show()"
   ]
  },
  {
   "cell_type": "code",
   "execution_count": 15,
   "metadata": {},
   "outputs": [],
   "source": [
    "df = df.drop(df[(df.provider == 'B') & (df.lead_cost == 75)].index)"
   ]
  },
  {
   "cell_type": "code",
   "execution_count": 16,
   "metadata": {},
   "outputs": [
    {
     "data": {
      "image/png": "[encoded data removed]",
      "text/plain": [
       "<Figure size 432x288 with 1 Axes>"
      ]
     },
     "metadata": {},
     "output_type": "display_data"
    }
   ],
   "source": [
    "explode = (0.3, 0)  \n",
    "colors = ['lightslategrey','goldenrod']\n",
    "\n",
    "plt.pie(df['purchase'].value_counts(), \n",
    "        startangle=90, autopct='%.2f',\n",
    "        labels=['No Purchase Made', 'Purchase Made'], shadow=True,\n",
    "        explode=explode, colors=colors)\n",
    "plt.show()"
   ]
  },
  {
   "cell_type": "code",
   "execution_count": 17,
   "metadata": {},
   "outputs": [],
   "source": [
    "df = df.drop(df[(df.provider == 'B') & (df.lead_cost == 100)].index)"
   ]
  },
  {
   "cell_type": "code",
   "execution_count": 18,
   "metadata": {},
   "outputs": [
    {
     "data": {
      "image/png": "[encoded data removed]",
      "text/plain": [
       "<Figure size 432x288 with 1 Axes>"
      ]
     },
     "metadata": {},
     "output_type": "display_data"
    }
   ],
   "source": [
    "explode = (0.3, 0)  \n",
    "colors = ['lightslategrey','goldenrod']\n",
    "\n",
    "plt.pie(df['purchase'].value_counts(), \n",
    "        startangle=90, autopct='%.2f',\n",
    "        labels=['No Purchase Made', 'Purchase Made'], shadow=True,\n",
    "        explode=explode, colors=colors)\n",
    "plt.show()"
   ]
  },
  {
   "cell_type": "code",
   "execution_count": 19,
   "metadata": {},
   "outputs": [],
   "source": [
    "df = df.drop(df[(df.provider == 'C') & (df.lead_cost == 50)].index)"
   ]
  },
  {
   "cell_type": "code",
   "execution_count": 20,
   "metadata": {},
   "outputs": [
    {
     "data": {
      "image/png": "[encoded data removed]",
      "text/plain": [
       "<Figure size 432x288 with 1 Axes>"
      ]
     },
     "metadata": {},
     "output_type": "display_data"
    }
   ],
   "source": [
    "explode = (0.3, 0)  \n",
    "colors = ['lightslategrey','goldenrod']\n",
    "\n",
    "plt.pie(df['purchase'].value_counts(), \n",
    "        startangle=90, autopct='%.2f',\n",
    "        labels=['No Purchase Made', 'Purchase Made'], shadow=True,\n",
    "        explode=explode, colors=colors)\n",
    "plt.show()"
   ]
  },
  {
   "cell_type": "code",
   "execution_count": 21,
   "metadata": {},
   "outputs": [],
   "source": [
    "df = df[df.lead_age < 30]"
   ]
  },
  {
   "cell_type": "markdown",
   "metadata": {},
   "source": [
    "## Takeaways\n",
    "\n",
    "- If we dont contact leads that have a lead age higher than 30, not purchasing a lead with a duration of over 1000 seconds, not purchase leads costing 50, 75,or 100 from provider B, and not purchase leads costing 50 dollars from lead C; then we can increase our consumer purchase from 4.86% up to 16.67%\n",
    "    - although this doesnt seem like a big difference it really is. because with a purchase of 16.67% equatees to:\n",
    "        - 554 x .1667 = 92.35 sales instead of 27 sales CIC currently made in the provided sata set."
   ]
  },
  {
   "cell_type": "code",
   "execution_count": null,
   "metadata": {},
   "outputs": [],
   "source": []
  }
 ],
 "metadata": {
  "kernelspec": {
   "display_name": "Python 3",
   "language": "python",
   "name": "python3"
  },
  "language_info": {
   "codemirror_mode": {
    "name": "ipython",
    "version": 3
   },
   "file_extension": ".py",
   "mimetype": "text/x-python",
   "name": "python",
   "nbconvert_exporter": "python",
   "pygments_lexer": "ipython3",
   "version": "3.8.5"
  }
 },
 "nbformat": 4,
 "nbformat_minor": 4
}
