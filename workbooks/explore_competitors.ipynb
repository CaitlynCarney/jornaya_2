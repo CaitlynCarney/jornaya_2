{
 "cells": [
  {
   "cell_type": "markdown",
   "metadata": {},
   "source": [
    "### CIC is looking for you to make suggestions about potential “rules” that they could implement with Jornaya data to positively impact their lead-buying strategy. For example, these are some good questions and points to start with:\n",
    "- Based on the data available, is there a certain type of lead that CIC should not bother purchasing?\n",
    "- Are there consumers that CIC should prioritize purchase and trying to contact? \n",
    "- What are the characteristics of the leads that CIC should not and should prioritize purchasing, and how can they implement rules using Jornaya data to distinguish these leads?\n",
    "- How much of a difference does having Jornaya data available make vs. not having it available?\n",
    "- Remember we are aiming to prove Jornaya’s data can have a meaningful and valuable impact to CIC, so showing numbers for how these rules can affect CIC will increase the strength of your story."
   ]
  },
  {
   "cell_type": "code",
   "execution_count": 1,
   "metadata": {},
   "outputs": [],
   "source": [
    "import pandas as pd\n",
    "import numpy as np\n",
    "\n",
    "import matplotlib.pyplot as plt\n",
    "import seaborn as sns\n",
    "\n",
    "import scipy.stats as stats\n",
    "\n",
    "import wrangle"
   ]
  },
  {
   "cell_type": "code",
   "execution_count": 2,
   "metadata": {},
   "outputs": [],
   "source": [
    "df = pd.read_csv('clean_CIC.csv').set_index('token')"
   ]
  },
  {
   "cell_type": "code",
   "execution_count": 3,
   "metadata": {},
   "outputs": [
    {
     "data": {
      "text/html": [
       "<div>\n",
       "<style scoped>\n",
       "    .dataframe tbody tr th:only-of-type {\n",
       "        vertical-align: middle;\n",
       "    }\n",
       "\n",
       "    .dataframe tbody tr th {\n",
       "        vertical-align: top;\n",
       "    }\n",
       "\n",
       "    .dataframe thead th {\n",
       "        text-align: right;\n",
       "    }\n",
       "</style>\n",
       "<table border=\"1\" class=\"dataframe\">\n",
       "  <thead>\n",
       "    <tr style=\"text-align: right;\">\n",
       "      <th></th>\n",
       "      <th>provider</th>\n",
       "      <th>lead_cost</th>\n",
       "      <th>contact</th>\n",
       "      <th>purchase</th>\n",
       "      <th>lead_age</th>\n",
       "      <th>lead_duration</th>\n",
       "      <th>field_count</th>\n",
       "      <th>competitors</th>\n",
       "      <th>provider_a</th>\n",
       "      <th>provider_b</th>\n",
       "      <th>provider_c</th>\n",
       "      <th>provider_d</th>\n",
       "    </tr>\n",
       "    <tr>\n",
       "      <th>token</th>\n",
       "      <th></th>\n",
       "      <th></th>\n",
       "      <th></th>\n",
       "      <th></th>\n",
       "      <th></th>\n",
       "      <th></th>\n",
       "      <th></th>\n",
       "      <th></th>\n",
       "      <th></th>\n",
       "      <th></th>\n",
       "      <th></th>\n",
       "      <th></th>\n",
       "    </tr>\n",
       "  </thead>\n",
       "  <tbody>\n",
       "    <tr>\n",
       "      <th>1</th>\n",
       "      <td>C</td>\n",
       "      <td>50</td>\n",
       "      <td>0</td>\n",
       "      <td>0</td>\n",
       "      <td>74</td>\n",
       "      <td>962</td>\n",
       "      <td>10</td>\n",
       "      <td>2</td>\n",
       "      <td>0</td>\n",
       "      <td>0</td>\n",
       "      <td>1</td>\n",
       "      <td>0</td>\n",
       "    </tr>\n",
       "    <tr>\n",
       "      <th>2</th>\n",
       "      <td>C</td>\n",
       "      <td>50</td>\n",
       "      <td>0</td>\n",
       "      <td>0</td>\n",
       "      <td>47</td>\n",
       "      <td>617</td>\n",
       "      <td>9</td>\n",
       "      <td>3</td>\n",
       "      <td>0</td>\n",
       "      <td>0</td>\n",
       "      <td>1</td>\n",
       "      <td>0</td>\n",
       "    </tr>\n",
       "    <tr>\n",
       "      <th>3</th>\n",
       "      <td>A</td>\n",
       "      <td>75</td>\n",
       "      <td>0</td>\n",
       "      <td>0</td>\n",
       "      <td>7</td>\n",
       "      <td>94</td>\n",
       "      <td>14</td>\n",
       "      <td>1</td>\n",
       "      <td>1</td>\n",
       "      <td>0</td>\n",
       "      <td>0</td>\n",
       "      <td>0</td>\n",
       "    </tr>\n",
       "    <tr>\n",
       "      <th>4</th>\n",
       "      <td>C</td>\n",
       "      <td>75</td>\n",
       "      <td>0</td>\n",
       "      <td>0</td>\n",
       "      <td>29</td>\n",
       "      <td>104</td>\n",
       "      <td>15</td>\n",
       "      <td>1</td>\n",
       "      <td>0</td>\n",
       "      <td>0</td>\n",
       "      <td>1</td>\n",
       "      <td>0</td>\n",
       "    </tr>\n",
       "    <tr>\n",
       "      <th>5</th>\n",
       "      <td>D</td>\n",
       "      <td>75</td>\n",
       "      <td>0</td>\n",
       "      <td>0</td>\n",
       "      <td>27</td>\n",
       "      <td>82</td>\n",
       "      <td>9</td>\n",
       "      <td>1</td>\n",
       "      <td>0</td>\n",
       "      <td>0</td>\n",
       "      <td>0</td>\n",
       "      <td>1</td>\n",
       "    </tr>\n",
       "  </tbody>\n",
       "</table>\n",
       "</div>"
      ],
      "text/plain": [
       "      provider  lead_cost  contact  purchase  lead_age  lead_duration  \\\n",
       "token                                                                   \n",
       "1            C         50        0         0        74            962   \n",
       "2            C         50        0         0        47            617   \n",
       "3            A         75        0         0         7             94   \n",
       "4            C         75        0         0        29            104   \n",
       "5            D         75        0         0        27             82   \n",
       "\n",
       "       field_count  competitors  provider_a  provider_b  provider_c  \\\n",
       "token                                                                 \n",
       "1               10            2           0           0           1   \n",
       "2                9            3           0           0           1   \n",
       "3               14            1           1           0           0   \n",
       "4               15            1           0           0           1   \n",
       "5                9            1           0           0           0   \n",
       "\n",
       "       provider_d  \n",
       "token              \n",
       "1               0  \n",
       "2               0  \n",
       "3               0  \n",
       "4               0  \n",
       "5               1  "
      ]
     },
     "execution_count": 3,
     "metadata": {},
     "output_type": "execute_result"
    }
   ],
   "source": [
    "df.head()"
   ]
  },
  {
   "cell_type": "code",
   "execution_count": 4,
   "metadata": {},
   "outputs": [
    {
     "data": {
      "text/plain": [
       "(554, 12)"
      ]
     },
     "execution_count": 4,
     "metadata": {},
     "output_type": "execute_result"
    }
   ],
   "source": [
    "df.shape"
   ]
  },
  {
   "cell_type": "markdown",
   "metadata": {},
   "source": [
    "___"
   ]
  },
  {
   "cell_type": "markdown",
   "metadata": {},
   "source": [
    "## Make more dummies to explore with"
   ]
  },
  {
   "cell_type": "markdown",
   "metadata": {},
   "source": [
    "### Lead cost"
   ]
  },
  {
   "cell_type": "code",
   "execution_count": 5,
   "metadata": {},
   "outputs": [],
   "source": [
    "# dummy lead cost feature\n",
    "dummy_df =  pd.get_dummies(df['lead_cost'])\n",
    "# name the new columns (goes in order of value counts high to low)\n",
    "dummy_df.columns = ['lead_costs_25', 'lead_costs_50', \n",
    "                    'lead_costs_75', 'lead_costs_100']\n",
    "# concat the dummies to the main data frame\n",
    "df = pd.concat([df, dummy_df], axis=1)"
   ]
  },
  {
   "cell_type": "markdown",
   "metadata": {},
   "source": [
    "### Competitors"
   ]
  },
  {
   "cell_type": "code",
   "execution_count": 6,
   "metadata": {},
   "outputs": [],
   "source": [
    "# dummy competitors feature\n",
    "dummy_df =  pd.get_dummies(df['competitors'])\n",
    "# name the new columns (goes in order of value counts high to low)\n",
    "dummy_df.columns = ['competitors_0', 'competitors_1', \n",
    "                    'competitors_2', 'competitors_3']\n",
    "# concat the dummies to the main data frame\n",
    "df = pd.concat([df, dummy_df], axis=1)"
   ]
  },
  {
   "cell_type": "markdown",
   "metadata": {},
   "source": [
    "___"
   ]
  },
  {
   "cell_type": "markdown",
   "metadata": {},
   "source": [
    "## Split the data"
   ]
  },
  {
   "cell_type": "code",
   "execution_count": 7,
   "metadata": {},
   "outputs": [],
   "source": [
    "train, validate, test = wrangle.split_CIC(df)\n",
    "X_train, X_validate, X_test, y_train, y_validate, y_test = wrangle.split_train_validate_test(train, validate, test) \n",
    "train_scaled, validate_scaled, test_scaled = wrangle.scale_my_data(train, validate, test)"
   ]
  },
  {
   "cell_type": "markdown",
   "metadata": {},
   "source": [
    "___"
   ]
  },
  {
   "cell_type": "markdown",
   "metadata": {},
   "source": [
    "## Competitors"
   ]
  },
  {
   "cell_type": "code",
   "execution_count": 8,
   "metadata": {},
   "outputs": [
    {
     "data": {
      "text/plain": [
       "<AxesSubplot:xlabel='competitors', ylabel='count'>"
      ]
     },
     "execution_count": 8,
     "metadata": {},
     "output_type": "execute_result"
    },
    {
     "data": {
      "image/png": "[encoded data removed]",
      "text/plain": [
       "<Figure size 864x432 with 1 Axes>"
      ]
     },
     "metadata": {
      "needs_background": "light"
     },
     "output_type": "display_data"
    }
   ],
   "source": [
    "plt.figure(figsize=(12,6))\n",
    "sns.countplot(data=df, x=df.competitors, palette='viridis')"
   ]
  },
  {
   "cell_type": "code",
   "execution_count": 24,
   "metadata": {},
   "outputs": [
    {
     "data": {
      "text/plain": [
       "<AxesSubplot:xlabel='competitors', ylabel='count'>"
      ]
     },
     "execution_count": 24,
     "metadata": {},
     "output_type": "execute_result"
    },
    {
     "data": {
      "image/png": "[encoded data removed]",
      "text/plain": [
       "<Figure size 864x432 with 1 Axes>"
      ]
     },
     "metadata": {
      "needs_background": "light"
     },
     "output_type": "display_data"
    }
   ],
   "source": [
    "plt.figure(figsize=(12,6))\n",
    "sns.countplot(data=df, x=train.competitors, hue='purchase', palette='viridis')"
   ]
  },
  {
   "cell_type": "code",
   "execution_count": 31,
   "metadata": {},
   "outputs": [
    {
     "data": {
      "text/plain": [
       "(362, 20)"
      ]
     },
     "execution_count": 31,
     "metadata": {},
     "output_type": "execute_result"
    }
   ],
   "source": [
    "zero = df[(df.competitors == 0)]\n",
    "zero.shape"
   ]
  },
  {
   "cell_type": "code",
   "execution_count": 38,
   "metadata": {},
   "outputs": [
    {
     "data": {
      "image/png": "[encoded data removed]",
      "text/plain": [
       "<Figure size 432x288 with 1 Axes>"
      ]
     },
     "metadata": {},
     "output_type": "display_data"
    }
   ],
   "source": [
    "explode = (0.3, 0)  \n",
    "colors = ['cadetblue','aquamarine','darkturquoise','darkseagreen']\n",
    "\n",
    "plt.pie(zero['purchase'].value_counts(), \n",
    "        startangle=90, autopct='%.2f', shadow=True,\n",
    "        explode=explode, colors=colors)\n",
    "plt.show()"
   ]
  },
  {
   "cell_type": "code",
   "execution_count": 32,
   "metadata": {},
   "outputs": [
    {
     "data": {
      "text/plain": [
       "(91, 20)"
      ]
     },
     "execution_count": 32,
     "metadata": {},
     "output_type": "execute_result"
    }
   ],
   "source": [
    "one = df[(df.competitors == 1)]\n",
    "one.shape"
   ]
  },
  {
   "cell_type": "code",
   "execution_count": 39,
   "metadata": {},
   "outputs": [
    {
     "data": {
      "image/png": "[encoded data removed]",
      "text/plain": [
       "<Figure size 432x288 with 1 Axes>"
      ]
     },
     "metadata": {},
     "output_type": "display_data"
    }
   ],
   "source": [
    "explode = (0.3, 0)  \n",
    "colors = ['cadetblue','aquamarine','darkturquoise','darkseagreen']\n",
    "\n",
    "plt.pie(one['purchase'].value_counts(), \n",
    "        startangle=90, autopct='%.2f', shadow=True,\n",
    "        explode=explode, colors=colors)\n",
    "plt.show()"
   ]
  },
  {
   "cell_type": "code",
   "execution_count": 33,
   "metadata": {},
   "outputs": [
    {
     "data": {
      "text/plain": [
       "(84, 20)"
      ]
     },
     "execution_count": 33,
     "metadata": {},
     "output_type": "execute_result"
    }
   ],
   "source": [
    "two = df[(df.competitors == 2)]\n",
    "two.shape"
   ]
  },
  {
   "cell_type": "code",
   "execution_count": 40,
   "metadata": {},
   "outputs": [
    {
     "data": {
      "image/png": "[encoded data removed]",
      "text/plain": [
       "<Figure size 432x288 with 1 Axes>"
      ]
     },
     "metadata": {},
     "output_type": "display_data"
    }
   ],
   "source": [
    "explode = (0.3, 0)  \n",
    "colors = ['cadetblue','aquamarine','darkturquoise','darkseagreen']\n",
    "\n",
    "plt.pie(two['purchase'].value_counts(), \n",
    "        startangle=90, autopct='%.2f', shadow=True,\n",
    "        explode=explode, colors=colors)\n",
    "plt.show()"
   ]
  },
  {
   "cell_type": "code",
   "execution_count": 34,
   "metadata": {},
   "outputs": [
    {
     "data": {
      "text/plain": [
       "(17, 20)"
      ]
     },
     "execution_count": 34,
     "metadata": {},
     "output_type": "execute_result"
    }
   ],
   "source": [
    "three = df[(df.competitors == 3) & ]\n",
    "three.shape"
   ]
  },
  {
   "cell_type": "code",
   "execution_count": 45,
   "metadata": {},
   "outputs": [
    {
     "data": {
      "text/plain": [
       "(17,)"
      ]
     },
     "execution_count": 45,
     "metadata": {},
     "output_type": "execute_result"
    }
   ],
   "source": [
    "test = df[(df.competitors == 3) & (df.purchase == 0)].index\n",
    "test.shape"
   ]
  },
  {
   "cell_type": "code",
   "execution_count": 46,
   "metadata": {},
   "outputs": [
    {
     "data": {
      "image/png": "[encoded data removed]",
      "text/plain": [
       "<Figure size 432x288 with 1 Axes>"
      ]
     },
     "metadata": {},
     "output_type": "display_data"
    }
   ],
   "source": [
    "colors = ['cadetblue','aquamarine','darkturquoise','darkseagreen']\n",
    "\n",
    "plt.pie(three['purchase'].value_counts(), \n",
    "        startangle=90, autopct='%.2f', shadow=True, colors=colors)\n",
    "plt.show()"
   ]
  },
  {
   "cell_type": "code",
   "execution_count": 9,
   "metadata": {},
   "outputs": [
    {
     "data": {
      "text/plain": [
       "0    200\n",
       "1     56\n",
       "2     44\n",
       "3     10\n",
       "Name: competitors, dtype: int64"
      ]
     },
     "execution_count": 9,
     "metadata": {},
     "output_type": "execute_result"
    }
   ],
   "source": [
    "train.competitors.value_counts()"
   ]
  },
  {
   "cell_type": "code",
   "execution_count": 10,
   "metadata": {},
   "outputs": [
    {
     "data": {
      "image/png": "[encoded data removed]",
      "text/plain": [
       "<Figure size 432x288 with 1 Axes>"
      ]
     },
     "metadata": {},
     "output_type": "display_data"
    }
   ],
   "source": [
    "explode = (0.1, 0, 0, 0)  \n",
    "colors = ['cadetblue','aquamarine','darkturquoise','darkseagreen']\n",
    "\n",
    "plt.pie(df['competitors'].value_counts(), \n",
    "        startangle=90, autopct='%.2f',\n",
    "        labels=['0 Competitors', '1 Competitor', '2 Competitors', \n",
    "                '3 Competitors'], shadow=True,\n",
    "        explode=explode, colors=colors)\n",
    "plt.show()"
   ]
  },
  {
   "cell_type": "markdown",
   "metadata": {},
   "source": [
    "### Takeaways:\n",
    "- 64.52% of the lead have 0 competitors for CIC to go against.\n",
    "\n",
    "### Questions Arised:\n",
    "- If such a large ratio of leads have no competitors, why is it that there is only 6.77% of leads signing on with CIC?"
   ]
  },
  {
   "cell_type": "markdown",
   "metadata": {},
   "source": [
    "___"
   ]
  },
  {
   "cell_type": "markdown",
   "metadata": {},
   "source": [
    "2. How many of the ones with one or more competitors are signing on with CIC?"
   ]
  },
  {
   "cell_type": "code",
   "execution_count": 11,
   "metadata": {},
   "outputs": [
    {
     "data": {
      "text/html": [
       "<div>\n",
       "<style scoped>\n",
       "    .dataframe tbody tr th:only-of-type {\n",
       "        vertical-align: middle;\n",
       "    }\n",
       "\n",
       "    .dataframe tbody tr th {\n",
       "        vertical-align: top;\n",
       "    }\n",
       "\n",
       "    .dataframe thead th {\n",
       "        text-align: right;\n",
       "    }\n",
       "</style>\n",
       "<table border=\"1\" class=\"dataframe\">\n",
       "  <thead>\n",
       "    <tr style=\"text-align: right;\">\n",
       "      <th></th>\n",
       "      <th>provider</th>\n",
       "      <th>lead_cost</th>\n",
       "      <th>contact</th>\n",
       "      <th>purchase</th>\n",
       "      <th>lead_age</th>\n",
       "      <th>lead_duration</th>\n",
       "      <th>field_count</th>\n",
       "      <th>provider_a</th>\n",
       "      <th>provider_b</th>\n",
       "      <th>provider_c</th>\n",
       "      <th>provider_d</th>\n",
       "      <th>lead_costs_25</th>\n",
       "      <th>lead_costs_50</th>\n",
       "      <th>lead_costs_75</th>\n",
       "      <th>lead_costs_100</th>\n",
       "      <th>competitors_0</th>\n",
       "      <th>competitors_1</th>\n",
       "      <th>competitors_2</th>\n",
       "      <th>competitors_3</th>\n",
       "    </tr>\n",
       "    <tr>\n",
       "      <th>competitors</th>\n",
       "      <th></th>\n",
       "      <th></th>\n",
       "      <th></th>\n",
       "      <th></th>\n",
       "      <th></th>\n",
       "      <th></th>\n",
       "      <th></th>\n",
       "      <th></th>\n",
       "      <th></th>\n",
       "      <th></th>\n",
       "      <th></th>\n",
       "      <th></th>\n",
       "      <th></th>\n",
       "      <th></th>\n",
       "      <th></th>\n",
       "      <th></th>\n",
       "      <th></th>\n",
       "      <th></th>\n",
       "      <th></th>\n",
       "    </tr>\n",
       "  </thead>\n",
       "  <tbody>\n",
       "    <tr>\n",
       "      <th>0</th>\n",
       "      <td>23</td>\n",
       "      <td>23</td>\n",
       "      <td>23</td>\n",
       "      <td>23</td>\n",
       "      <td>23</td>\n",
       "      <td>23</td>\n",
       "      <td>23</td>\n",
       "      <td>23</td>\n",
       "      <td>23</td>\n",
       "      <td>23</td>\n",
       "      <td>23</td>\n",
       "      <td>23</td>\n",
       "      <td>23</td>\n",
       "      <td>23</td>\n",
       "      <td>23</td>\n",
       "      <td>23</td>\n",
       "      <td>23</td>\n",
       "      <td>23</td>\n",
       "      <td>23</td>\n",
       "    </tr>\n",
       "    <tr>\n",
       "      <th>1</th>\n",
       "      <td>3</td>\n",
       "      <td>3</td>\n",
       "      <td>3</td>\n",
       "      <td>3</td>\n",
       "      <td>3</td>\n",
       "      <td>3</td>\n",
       "      <td>3</td>\n",
       "      <td>3</td>\n",
       "      <td>3</td>\n",
       "      <td>3</td>\n",
       "      <td>3</td>\n",
       "      <td>3</td>\n",
       "      <td>3</td>\n",
       "      <td>3</td>\n",
       "      <td>3</td>\n",
       "      <td>3</td>\n",
       "      <td>3</td>\n",
       "      <td>3</td>\n",
       "      <td>3</td>\n",
       "    </tr>\n",
       "    <tr>\n",
       "      <th>2</th>\n",
       "      <td>1</td>\n",
       "      <td>1</td>\n",
       "      <td>1</td>\n",
       "      <td>1</td>\n",
       "      <td>1</td>\n",
       "      <td>1</td>\n",
       "      <td>1</td>\n",
       "      <td>1</td>\n",
       "      <td>1</td>\n",
       "      <td>1</td>\n",
       "      <td>1</td>\n",
       "      <td>1</td>\n",
       "      <td>1</td>\n",
       "      <td>1</td>\n",
       "      <td>1</td>\n",
       "      <td>1</td>\n",
       "      <td>1</td>\n",
       "      <td>1</td>\n",
       "      <td>1</td>\n",
       "    </tr>\n",
       "  </tbody>\n",
       "</table>\n",
       "</div>"
      ],
      "text/plain": [
       "             provider  lead_cost  contact  purchase  lead_age  lead_duration  \\\n",
       "competitors                                                                    \n",
       "0                  23         23       23        23        23             23   \n",
       "1                   3          3        3         3         3              3   \n",
       "2                   1          1        1         1         1              1   \n",
       "\n",
       "             field_count  provider_a  provider_b  provider_c  provider_d  \\\n",
       "competitors                                                                \n",
       "0                     23          23          23          23          23   \n",
       "1                      3           3           3           3           3   \n",
       "2                      1           1           1           1           1   \n",
       "\n",
       "             lead_costs_25  lead_costs_50  lead_costs_75  lead_costs_100  \\\n",
       "competitors                                                                \n",
       "0                       23             23             23              23   \n",
       "1                        3              3              3               3   \n",
       "2                        1              1              1               1   \n",
       "\n",
       "             competitors_0  competitors_1  competitors_2  competitors_3  \n",
       "competitors                                                              \n",
       "0                       23             23             23             23  \n",
       "1                        3              3              3              3  \n",
       "2                        1              1              1              1  "
      ]
     },
     "execution_count": 11,
     "metadata": {},
     "output_type": "execute_result"
    }
   ],
   "source": [
    "bought = df[df['purchase'] == 1]\n",
    "comp_bought = bought.groupby('competitors').count()\n",
    "#code_reasons.sort_values(by = 'open_date', ascending = False)\n",
    "\n",
    "comp_bought"
   ]
  },
  {
   "cell_type": "code",
   "execution_count": 12,
   "metadata": {},
   "outputs": [
    {
     "data": {
      "text/html": [
       "<div>\n",
       "<style scoped>\n",
       "    .dataframe tbody tr th:only-of-type {\n",
       "        vertical-align: middle;\n",
       "    }\n",
       "\n",
       "    .dataframe tbody tr th {\n",
       "        vertical-align: top;\n",
       "    }\n",
       "\n",
       "    .dataframe thead th {\n",
       "        text-align: right;\n",
       "    }\n",
       "</style>\n",
       "<table border=\"1\" class=\"dataframe\">\n",
       "  <thead>\n",
       "    <tr style=\"text-align: right;\">\n",
       "      <th></th>\n",
       "      <th>provider</th>\n",
       "      <th>lead_cost</th>\n",
       "      <th>contact</th>\n",
       "      <th>purchase</th>\n",
       "      <th>lead_age</th>\n",
       "      <th>lead_duration</th>\n",
       "      <th>field_count</th>\n",
       "      <th>provider_a</th>\n",
       "      <th>provider_b</th>\n",
       "      <th>provider_c</th>\n",
       "      <th>provider_d</th>\n",
       "      <th>lead_costs_25</th>\n",
       "      <th>lead_costs_50</th>\n",
       "      <th>lead_costs_75</th>\n",
       "      <th>lead_costs_100</th>\n",
       "      <th>competitors_0</th>\n",
       "      <th>competitors_1</th>\n",
       "      <th>competitors_2</th>\n",
       "      <th>competitors_3</th>\n",
       "    </tr>\n",
       "    <tr>\n",
       "      <th>competitors</th>\n",
       "      <th></th>\n",
       "      <th></th>\n",
       "      <th></th>\n",
       "      <th></th>\n",
       "      <th></th>\n",
       "      <th></th>\n",
       "      <th></th>\n",
       "      <th></th>\n",
       "      <th></th>\n",
       "      <th></th>\n",
       "      <th></th>\n",
       "      <th></th>\n",
       "      <th></th>\n",
       "      <th></th>\n",
       "      <th></th>\n",
       "      <th></th>\n",
       "      <th></th>\n",
       "      <th></th>\n",
       "      <th></th>\n",
       "    </tr>\n",
       "  </thead>\n",
       "  <tbody>\n",
       "    <tr>\n",
       "      <th>0</th>\n",
       "      <td>339</td>\n",
       "      <td>339</td>\n",
       "      <td>339</td>\n",
       "      <td>339</td>\n",
       "      <td>339</td>\n",
       "      <td>339</td>\n",
       "      <td>339</td>\n",
       "      <td>339</td>\n",
       "      <td>339</td>\n",
       "      <td>339</td>\n",
       "      <td>339</td>\n",
       "      <td>339</td>\n",
       "      <td>339</td>\n",
       "      <td>339</td>\n",
       "      <td>339</td>\n",
       "      <td>339</td>\n",
       "      <td>339</td>\n",
       "      <td>339</td>\n",
       "      <td>339</td>\n",
       "    </tr>\n",
       "    <tr>\n",
       "      <th>1</th>\n",
       "      <td>88</td>\n",
       "      <td>88</td>\n",
       "      <td>88</td>\n",
       "      <td>88</td>\n",
       "      <td>88</td>\n",
       "      <td>88</td>\n",
       "      <td>88</td>\n",
       "      <td>88</td>\n",
       "      <td>88</td>\n",
       "      <td>88</td>\n",
       "      <td>88</td>\n",
       "      <td>88</td>\n",
       "      <td>88</td>\n",
       "      <td>88</td>\n",
       "      <td>88</td>\n",
       "      <td>88</td>\n",
       "      <td>88</td>\n",
       "      <td>88</td>\n",
       "      <td>88</td>\n",
       "    </tr>\n",
       "    <tr>\n",
       "      <th>2</th>\n",
       "      <td>83</td>\n",
       "      <td>83</td>\n",
       "      <td>83</td>\n",
       "      <td>83</td>\n",
       "      <td>83</td>\n",
       "      <td>83</td>\n",
       "      <td>83</td>\n",
       "      <td>83</td>\n",
       "      <td>83</td>\n",
       "      <td>83</td>\n",
       "      <td>83</td>\n",
       "      <td>83</td>\n",
       "      <td>83</td>\n",
       "      <td>83</td>\n",
       "      <td>83</td>\n",
       "      <td>83</td>\n",
       "      <td>83</td>\n",
       "      <td>83</td>\n",
       "      <td>83</td>\n",
       "    </tr>\n",
       "    <tr>\n",
       "      <th>3</th>\n",
       "      <td>17</td>\n",
       "      <td>17</td>\n",
       "      <td>17</td>\n",
       "      <td>17</td>\n",
       "      <td>17</td>\n",
       "      <td>17</td>\n",
       "      <td>17</td>\n",
       "      <td>17</td>\n",
       "      <td>17</td>\n",
       "      <td>17</td>\n",
       "      <td>17</td>\n",
       "      <td>17</td>\n",
       "      <td>17</td>\n",
       "      <td>17</td>\n",
       "      <td>17</td>\n",
       "      <td>17</td>\n",
       "      <td>17</td>\n",
       "      <td>17</td>\n",
       "      <td>17</td>\n",
       "    </tr>\n",
       "  </tbody>\n",
       "</table>\n",
       "</div>"
      ],
      "text/plain": [
       "             provider  lead_cost  contact  purchase  lead_age  lead_duration  \\\n",
       "competitors                                                                    \n",
       "0                 339        339      339       339       339            339   \n",
       "1                  88         88       88        88        88             88   \n",
       "2                  83         83       83        83        83             83   \n",
       "3                  17         17       17        17        17             17   \n",
       "\n",
       "             field_count  provider_a  provider_b  provider_c  provider_d  \\\n",
       "competitors                                                                \n",
       "0                    339         339         339         339         339   \n",
       "1                     88          88          88          88          88   \n",
       "2                     83          83          83          83          83   \n",
       "3                     17          17          17          17          17   \n",
       "\n",
       "             lead_costs_25  lead_costs_50  lead_costs_75  lead_costs_100  \\\n",
       "competitors                                                                \n",
       "0                      339            339            339             339   \n",
       "1                       88             88             88              88   \n",
       "2                       83             83             83              83   \n",
       "3                       17             17             17              17   \n",
       "\n",
       "             competitors_0  competitors_1  competitors_2  competitors_3  \n",
       "competitors                                                              \n",
       "0                      339            339            339            339  \n",
       "1                       88             88             88             88  \n",
       "2                       83             83             83             83  \n",
       "3                       17             17             17             17  "
      ]
     },
     "execution_count": 12,
     "metadata": {},
     "output_type": "execute_result"
    }
   ],
   "source": [
    "not_bought = df[df['purchase'] != 1]\n",
    "comp_not_bought = not_bought.groupby('competitors').count()\n",
    "#code_reasons.sort_values(by = 'open_date', ascending = False)\n",
    "\n",
    "comp_not_bought"
   ]
  },
  {
   "cell_type": "markdown",
   "metadata": {},
   "source": [
    "### Takeaways:\n",
    "- Most of the purchases come from those with 0 competitors\n",
    "- very few leads with 2+ competotors purchase with CIC\n",
    "- None of the leads with 3 competitors purchased with CIC"
   ]
  },
  {
   "cell_type": "markdown",
   "metadata": {},
   "source": [
    "___"
   ]
  },
  {
   "cell_type": "markdown",
   "metadata": {},
   "source": [
    "### Purchase & competitors"
   ]
  },
  {
   "cell_type": "markdown",
   "metadata": {},
   "source": [
    "Using a chi square test.\n",
    "- I am doing this because we are drawing a comparison between 2 categorical varaibles.\n",
    "\n",
    "Using Anova test\n",
    "- I am doing this because one of the categorical variables has more than 2 categories"
   ]
  },
  {
   "cell_type": "markdown",
   "metadata": {},
   "source": [
    "### Start with chi squared for competitors as a whole\n",
    "#### Look at contigency tables"
   ]
  },
  {
   "cell_type": "code",
   "execution_count": 13,
   "metadata": {},
   "outputs": [
    {
     "data": {
      "text/html": [
       "<div>\n",
       "<style scoped>\n",
       "    .dataframe tbody tr th:only-of-type {\n",
       "        vertical-align: middle;\n",
       "    }\n",
       "\n",
       "    .dataframe tbody tr th {\n",
       "        vertical-align: top;\n",
       "    }\n",
       "\n",
       "    .dataframe thead th {\n",
       "        text-align: right;\n",
       "    }\n",
       "</style>\n",
       "<table border=\"1\" class=\"dataframe\">\n",
       "  <thead>\n",
       "    <tr style=\"text-align: right;\">\n",
       "      <th>competitors</th>\n",
       "      <th>0</th>\n",
       "      <th>1</th>\n",
       "      <th>2</th>\n",
       "      <th>3</th>\n",
       "    </tr>\n",
       "    <tr>\n",
       "      <th>purchase</th>\n",
       "      <th></th>\n",
       "      <th></th>\n",
       "      <th></th>\n",
       "      <th></th>\n",
       "    </tr>\n",
       "  </thead>\n",
       "  <tbody>\n",
       "    <tr>\n",
       "      <th>0</th>\n",
       "      <td>339</td>\n",
       "      <td>88</td>\n",
       "      <td>83</td>\n",
       "      <td>17</td>\n",
       "    </tr>\n",
       "    <tr>\n",
       "      <th>1</th>\n",
       "      <td>23</td>\n",
       "      <td>3</td>\n",
       "      <td>1</td>\n",
       "      <td>0</td>\n",
       "    </tr>\n",
       "  </tbody>\n",
       "</table>\n",
       "</div>"
      ],
      "text/plain": [
       "competitors    0   1   2   3\n",
       "purchase                    \n",
       "0            339  88  83  17\n",
       "1             23   3   1   0"
      ]
     },
     "execution_count": 13,
     "metadata": {},
     "output_type": "execute_result"
    }
   ],
   "source": [
    "contigency = pd.crosstab(df['purchase'], df['competitors'])\n",
    "contigency"
   ]
  },
  {
   "cell_type": "code",
   "execution_count": 14,
   "metadata": {},
   "outputs": [
    {
     "data": {
      "text/html": [
       "<div>\n",
       "<style scoped>\n",
       "    .dataframe tbody tr th:only-of-type {\n",
       "        vertical-align: middle;\n",
       "    }\n",
       "\n",
       "    .dataframe tbody tr th {\n",
       "        vertical-align: top;\n",
       "    }\n",
       "\n",
       "    .dataframe thead th {\n",
       "        text-align: right;\n",
       "    }\n",
       "</style>\n",
       "<table border=\"1\" class=\"dataframe\">\n",
       "  <thead>\n",
       "    <tr style=\"text-align: right;\">\n",
       "      <th>competitors</th>\n",
       "      <th>0</th>\n",
       "      <th>1</th>\n",
       "      <th>2</th>\n",
       "      <th>3</th>\n",
       "    </tr>\n",
       "    <tr>\n",
       "      <th>purchase</th>\n",
       "      <th></th>\n",
       "      <th></th>\n",
       "      <th></th>\n",
       "      <th></th>\n",
       "    </tr>\n",
       "  </thead>\n",
       "  <tbody>\n",
       "    <tr>\n",
       "      <th>0</th>\n",
       "      <td>0.643264</td>\n",
       "      <td>0.166983</td>\n",
       "      <td>0.157495</td>\n",
       "      <td>0.032258</td>\n",
       "    </tr>\n",
       "    <tr>\n",
       "      <th>1</th>\n",
       "      <td>0.851852</td>\n",
       "      <td>0.111111</td>\n",
       "      <td>0.037037</td>\n",
       "      <td>0.000000</td>\n",
       "    </tr>\n",
       "  </tbody>\n",
       "</table>\n",
       "</div>"
      ],
      "text/plain": [
       "competitors         0         1         2         3\n",
       "purchase                                           \n",
       "0            0.643264  0.166983  0.157495  0.032258\n",
       "1            0.851852  0.111111  0.037037  0.000000"
      ]
     },
     "execution_count": 14,
     "metadata": {},
     "output_type": "execute_result"
    }
   ],
   "source": [
    "contigency_pct = pd.crosstab(df['purchase'], df['competitors'], normalize='index')\n",
    "contigency_pct"
   ]
  },
  {
   "cell_type": "code",
   "execution_count": 15,
   "metadata": {},
   "outputs": [
    {
     "name": "stdout",
     "output_type": "stream",
     "text": [
      "I fail to reject the null hypothesis\n",
      "There is not enough evidence to move forward with the alternative hypothesis\n",
      "P value is: \n",
      " 0.5167\n",
      " \n",
      "The alpha value is: \n",
      " 0.05\n"
     ]
    }
   ],
   "source": [
    "# normlaize makes it percentage\n",
    "observe = pd.crosstab(train.purchase, train.competitors, margins = True)\n",
    "chi2, p, degf, expected = stats.chi2_contingency(observe)\n",
    "# Chi test is for catigorical vs catigorical\n",
    "null_hypothesis = \"The purchase with CIC and the number of competitors are independent from each other\"\n",
    "alt_hypothesis = \"The purchase and the number of competitors are dependent from one another.\"\n",
    "alpha = .05 #my confident if 0.95 therfore my alpha is .05\n",
    "\n",
    "if p < alpha:\n",
    "    print(\"I reject the hypothesis that: \\n\", null_hypothesis)\n",
    "    print(' ')\n",
    "    print(\"I move forward with my alternative hypothesis that \\n\", alt_hypothesis)\n",
    "    print(' ')\n",
    "    print(f'The alpha is: \\n', alpha)\n",
    "    print(' ')\n",
    "    print(f'P value is: \\n', round(p,4))\n",
    "else:\n",
    "    print(\"I fail to reject the null hypothesis\")\n",
    "    print(\"There is not enough evidence to move forward with the alternative hypothesis\")\n",
    "    print(f'P value is: \\n', round(p,4))\n",
    "    print(' ')\n",
    "    print(f'The alpha value is: \\n', alpha)"
   ]
  },
  {
   "cell_type": "markdown",
   "metadata": {},
   "source": [
    "### Chi square for each individual competitor"
   ]
  },
  {
   "cell_type": "code",
   "execution_count": 16,
   "metadata": {},
   "outputs": [
    {
     "name": "stdout",
     "output_type": "stream",
     "text": [
      "I fail to reject the null hypothesis\n",
      "There is not enough evidence to move forward with the alternative hypothesis\n",
      "P value is: \n",
      " 0.1567\n",
      " \n",
      "The alpha value is: \n",
      " 0.05\n"
     ]
    }
   ],
   "source": [
    "# normlaize makes it percentage\n",
    "observe = pd.crosstab(train.purchase, train.competitors_0, margins = True)\n",
    "chi2, p, degf, expected = stats.chi2_contingency(observe)\n",
    "# Chi test is for catigorical vs catigorical\n",
    "null_hypothesis = \"The purchase with CIC and the number of competitors are independent from each other\"\n",
    "alt_hypothesis = \"The purchase and the number of competitors are dependent from one another.\"\n",
    "alpha = .05 #my confident if 0.95 therfore my alpha is .05\n",
    "\n",
    "if p < alpha:\n",
    "    print(\"I reject the hypothesis that: \\n\", null_hypothesis)\n",
    "    print(' ')\n",
    "    print(\"I move forward with my alternative hypothesis that \\n\", alt_hypothesis)\n",
    "    print(' ')\n",
    "    print(f'The alpha is: \\n', alpha)\n",
    "    print(' ')\n",
    "    print(f'P value is: \\n', round(p,4))\n",
    "else:\n",
    "    print(\"I fail to reject the null hypothesis\")\n",
    "    print(\"There is not enough evidence to move forward with the alternative hypothesis\")\n",
    "    print(f'P value is: \\n', round(p,4))\n",
    "    print(' ')\n",
    "    print(f'The alpha value is: \\n', alpha)"
   ]
  },
  {
   "cell_type": "code",
   "execution_count": 17,
   "metadata": {},
   "outputs": [
    {
     "name": "stdout",
     "output_type": "stream",
     "text": [
      "I fail to reject the null hypothesis\n",
      "There is not enough evidence to move forward with the alternative hypothesis\n",
      "P value is: \n",
      " 0.8927\n",
      " \n",
      "The alpha value is: \n",
      " 0.05\n"
     ]
    }
   ],
   "source": [
    "# normlaize makes it percentage\n",
    "observe = pd.crosstab(train.purchase, train.competitors_1, margins = True)\n",
    "chi2, p, degf, expected = stats.chi2_contingency(observe)\n",
    "# Chi test is for catigorical vs catigorical\n",
    "null_hypothesis = \"The purchase with CIC and the number of competitors are independent from each other\"\n",
    "alt_hypothesis = \"The purchase and the number of competitors are dependent from one another.\"\n",
    "alpha = .05 #my confident if 0.95 therfore my alpha is .05\n",
    "\n",
    "if p < alpha:\n",
    "    print(\"I reject the hypothesis that: \\n\", null_hypothesis)\n",
    "    print(' ')\n",
    "    print(\"I move forward with my alternative hypothesis that \\n\", alt_hypothesis)\n",
    "    print(' ')\n",
    "    print(f'The alpha is: \\n', alpha)\n",
    "    print(' ')\n",
    "    print(f'P value is: \\n', round(p,4))\n",
    "else:\n",
    "    print(\"I fail to reject the null hypothesis\")\n",
    "    print(\"There is not enough evidence to move forward with the alternative hypothesis\")\n",
    "    print(f'P value is: \\n', round(p,4))\n",
    "    print(' ')\n",
    "    print(f'The alpha value is: \\n', alpha)"
   ]
  },
  {
   "cell_type": "code",
   "execution_count": 18,
   "metadata": {},
   "outputs": [
    {
     "name": "stdout",
     "output_type": "stream",
     "text": [
      "I fail to reject the null hypothesis\n",
      "There is not enough evidence to move forward with the alternative hypothesis\n",
      "P value is: \n",
      " 0.4443\n",
      " \n",
      "The alpha value is: \n",
      " 0.05\n"
     ]
    }
   ],
   "source": [
    "# normlaize makes it percentage\n",
    "observe = pd.crosstab(train.purchase, train.competitors_2, margins = True)\n",
    "chi2, p, degf, expected = stats.chi2_contingency(observe)\n",
    "# Chi test is for catigorical vs catigorical\n",
    "null_hypothesis = \"The purchase with CIC and the number of competitors are independent from each other\"\n",
    "alt_hypothesis = \"The purchase and the number of competitors are dependent from one another.\"\n",
    "alpha = .05 #my confident if 0.95 therfore my alpha is .05\n",
    "\n",
    "if p < alpha:\n",
    "    print(\"I reject the hypothesis that: \\n\", null_hypothesis)\n",
    "    print(' ')\n",
    "    print(\"I move forward with my alternative hypothesis that \\n\", alt_hypothesis)\n",
    "    print(' ')\n",
    "    print(f'The alpha is: \\n', alpha)\n",
    "    print(' ')\n",
    "    print(f'P value is: \\n', round(p,4))\n",
    "else:\n",
    "    print(\"I fail to reject the null hypothesis\")\n",
    "    print(\"There is not enough evidence to move forward with the alternative hypothesis\")\n",
    "    print(f'P value is: \\n', round(p,4))\n",
    "    print(' ')\n",
    "    print(f'The alpha value is: \\n', alpha)"
   ]
  },
  {
   "cell_type": "code",
   "execution_count": 19,
   "metadata": {},
   "outputs": [
    {
     "name": "stdout",
     "output_type": "stream",
     "text": [
      "I fail to reject the null hypothesis\n",
      "There is not enough evidence to move forward with the alternative hypothesis\n",
      "P value is: \n",
      " 0.9449\n",
      " \n",
      "The alpha value is: \n",
      " 0.05\n"
     ]
    }
   ],
   "source": [
    "# normlaize makes it percentage\n",
    "observe = pd.crosstab(train.purchase, train.competitors_3, margins = True)\n",
    "chi2, p, degf, expected = stats.chi2_contingency(observe)\n",
    "# Chi test is for catigorical vs catigorical\n",
    "null_hypothesis = \"The purchase with CIC and the number of competitors are independent from each other\"\n",
    "alt_hypothesis = \"The purchase and the number of competitors are dependent from one another.\"\n",
    "alpha = .05 #my confident if 0.95 therfore my alpha is .05\n",
    "\n",
    "if p < alpha:\n",
    "    print(\"I reject the hypothesis that: \\n\", null_hypothesis)\n",
    "    print(' ')\n",
    "    print(\"I move forward with my alternative hypothesis that \\n\", alt_hypothesis)\n",
    "    print(' ')\n",
    "    print(f'The alpha is: \\n', alpha)\n",
    "    print(' ')\n",
    "    print(f'P value is: \\n', round(p,4))\n",
    "else:\n",
    "    print(\"I fail to reject the null hypothesis\")\n",
    "    print(\"There is not enough evidence to move forward with the alternative hypothesis\")\n",
    "    print(f'P value is: \\n', round(p,4))\n",
    "    print(' ')\n",
    "    print(f'The alpha value is: \\n', alpha)"
   ]
  },
  {
   "cell_type": "markdown",
   "metadata": {},
   "source": [
    "### Now for Anova test"
   ]
  },
  {
   "cell_type": "code",
   "execution_count": 20,
   "metadata": {},
   "outputs": [
    {
     "name": "stdout",
     "output_type": "stream",
     "text": [
      "We fail to reject the null hypothesis. The null hypothesis is that there is no difference in purchase between the number of competitors for a lead.\n"
     ]
    }
   ],
   "source": [
    "n = train.shape[0]     # number of observations\n",
    "degf = n - 2        # degrees of freedom: the # of values in the final calculation of a statistic that are free to vary.\n",
    "alpha = 0.05\n",
    "null_hypothesis = 'there is no difference in purchase between the number of competitors for a lead.'\n",
    "F, p = stats.f_oneway( \n",
    "    train.purchase[train.competitors==0],\n",
    "    train.purchase[train.competitors==1],\n",
    "    train.purchase[train.competitors==2],\n",
    "    train.purchase[train.competitors==3])\n",
    "if p > alpha:\n",
    "    print(\"We fail to reject the null hypothesis. The null hypothesis is that\", null_hypothesis)\n",
    "else:\n",
    "    print(\"We reject the null hypothesis that\", null_hypothesis)"
   ]
  },
  {
   "cell_type": "markdown",
   "metadata": {},
   "source": [
    "### Check correlation"
   ]
  },
  {
   "cell_type": "code",
   "execution_count": 21,
   "metadata": {},
   "outputs": [
    {
     "name": "stdout",
     "output_type": "stream",
     "text": [
      " The correlation between purchase and the lead duration is: \n",
      " -0.14768186710622083\n",
      " The P value between purchase and lead duration is: \n",
      " 0.009214359686999843\n"
     ]
    }
   ],
   "source": [
    "null_hypothesis = \"There is no correlation between number of purchases and amount of competitors.\"\n",
    "alt_hypothesis = \"There is a correlation between number of purchases and amount of competitors.\"\n",
    "confidence_level = .95\n",
    "a = 1 - confidence_level\n",
    "x = train.purchase\n",
    "y= train.competitors\n",
    "\n",
    "corr, p = stats.pearsonr(x, y)\n",
    "print(f' The correlation between purchase and the lead duration is: \\n', corr)\n",
    "print(f' The P value between purchase and lead duration is: \\n', p)"
   ]
  },
  {
   "cell_type": "code",
   "execution_count": 22,
   "metadata": {},
   "outputs": [
    {
     "name": "stdout",
     "output_type": "stream",
     "text": [
      "Reject null hypothesis: \n",
      "'There is no correlation between number of purchases and amount of competitors.'\n",
      " \n",
      "We now move forward with our alternative hypothesis: \n",
      "'There is a correlation between number of purchases and amount of competitors.'\n",
      " \n",
      "This is a weak negative correlation.\n"
     ]
    }
   ],
   "source": [
    "if p < a:\n",
    "    print(f\"Reject null hypothesis: \\n'{null_hypothesis}'\")\n",
    "    print(' ')\n",
    "    print(f\"We now move forward with our alternative hypothesis: \\n'{alt_hypothesis}'\")\n",
    "    print(' ')\n",
    "    if 0 < corr < .6:\n",
    "        print(\"This is a weak positive correlation.\")\n",
    "    elif .6 < corr < 1:\n",
    "        print(\"That is a strong positive correlation.\")\n",
    "    elif -.6 < corr < 0:\n",
    "        print(\"This is a weak negative correlation.\")\n",
    "    elif -1 < corr < -.6:\n",
    "        print(\"That is a strong negative correlation.\")\n",
    "    \n",
    "else : \n",
    "    print(\"Fail to reject the null hypothesis.\")"
   ]
  },
  {
   "cell_type": "code",
   "execution_count": 23,
   "metadata": {},
   "outputs": [
    {
     "data": {
      "text/plain": [
       "<seaborn.axisgrid.JointGrid at 0x7f9e4066ae50>"
      ]
     },
     "execution_count": 23,
     "metadata": {},
     "output_type": "execute_result"
    },
    {
     "data": {
      "image/png": "[encoded data removed]",
      "text/plain": [
       "<Figure size 432x432 with 3 Axes>"
      ]
     },
     "metadata": {
      "needs_background": "light"
     },
     "output_type": "display_data"
    }
   ],
   "source": [
    "sns.jointplot(data=train, x='purchase', y='competitors', color='goldenrod', edgecolor='black')"
   ]
  },
  {
   "cell_type": "markdown",
   "metadata": {},
   "source": [
    "___"
   ]
  }
 ],
 "metadata": {
  "kernelspec": {
   "display_name": "Python 3",
   "language": "python",
   "name": "python3"
  },
  "language_info": {
   "codemirror_mode": {
    "name": "ipython",
    "version": 3
   },
   "file_extension": ".py",
   "mimetype": "text/x-python",
   "name": "python",
   "nbconvert_exporter": "python",
   "pygments_lexer": "ipython3",
   "version": "3.8.5"
  }
 },
 "nbformat": 4,
 "nbformat_minor": 4
}
